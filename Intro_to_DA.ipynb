{
 "cells": [
  {
   "cell_type": "markdown",
   "metadata": {},
   "source": [
    "# ** Introduction to Data Analytics **"
   ]
  },
  {
   "cell_type": "markdown",
   "metadata": {},
   "source": [
    "<img src=\"https://raw.githubusercontent.com/jalajthanaki/Movie_recommendation_engine/master/img/1_1.png\" \n",
    "align=\"middle\" alt=\"Figure 1.4\" data-canonical-src=\"\" style=\"width:65%;height:65%\">"
   ]
  },
  {
   "cell_type": "markdown",
   "metadata": {},
   "source": [
    "* Impact on business today\n",
    "    * Enable new products, Services and creating new markets\n",
    "    * Distrupting existing market\n",
    "    * Driving increased efficiency\n",
    "    \n",
    "    \n",
    "* How can data help organization?\n",
    "    * Identufy growth oppertunies\n",
    "    * Drive innovation\n",
    "    * Operate more efficiently\n",
    "    * Manage risk in new ways"
   ]
  },
  {
   "cell_type": "markdown",
   "metadata": {},
   "source": [
    "<img src=\"https://raw.githubusercontent.com/jalajthanaki/Movie_recommendation_engine/master/img/1_2.png\" \n",
    "align=\"middle\" alt=\"Figure 1.4\" data-canonical-src=\"\" style=\"width:45%;height:45%\">"
   ]
  },
  {
   "cell_type": "markdown",
   "metadata": {},
   "source": [
    "# **Types of Data Analytics**"
   ]
  },
  {
   "cell_type": "markdown",
   "metadata": {},
   "source": [
    "<img src=\"https://raw.githubusercontent.com/jalajthanaki/Movie_recommendation_engine/master/img/1_3.png\" \n",
    "align=\"middle\" alt=\"Figure 1.4\" data-canonical-src=\"\" style=\"width:85%;height:85%\">"
   ]
  },
  {
   "cell_type": "markdown",
   "metadata": {},
   "source": [
    "# ** Intrduction to Machine Learning **"
   ]
  },
  {
   "cell_type": "markdown",
   "metadata": {},
   "source": [
    "<img src=\"https://raw.githubusercontent.com/jalajthanaki/Movie_recommendation_engine/master/img/1_4.jpeg\" \n",
    "align=\"middle\" alt=\"Figure 1.4\" data-canonical-src=\"\" style=\"width:65%;height:65%\">"
   ]
  },
  {
   "cell_type": "markdown",
   "metadata": {},
   "source": [
    "# ** Machine Learning applications **"
   ]
  },
  {
   "cell_type": "markdown",
   "metadata": {},
   "source": [
    "<img src=\"https://raw.githubusercontent.com/jalajthanaki/Movie_recommendation_engine/master/img/1_5.png\" style=\"width:70%;height:70%\" align=\"middle\" alt=\"Figure 1.5\" data-canonical-src=\"\">"
   ]
  },
  {
   "cell_type": "markdown",
   "metadata": {},
   "source": [
    "# ** Data Analytics lifecycle **"
   ]
  },
  {
   "cell_type": "markdown",
   "metadata": {},
   "source": [
    "<img src=\"https://raw.githubusercontent.com/jalajthanaki/Movie_recommendation_engine/master/img/1_6.png\" style=\"width:70%;height:70%\" align=\"middle\" alt=\"Figure 1.6\" data-canonical-src=\"\">"
   ]
  },
  {
   "cell_type": "markdown",
   "metadata": {},
   "source": [
    "# ** Steps to build analytics application **"
   ]
  },
  {
   "cell_type": "markdown",
   "metadata": {},
   "source": [
    "<img src=\"https://raw.githubusercontent.com/jalajthanaki/Movie_recommendation_engine/master/img/1_7.png\" style=\"width:50%;height:50%\" align=\"middle\" alt=\"Figure 1.7\" data-canonical-src=\"\">"
   ]
  },
  {
   "cell_type": "code",
   "execution_count": null,
   "metadata": {},
   "outputs": [],
   "source": []
  }
 ],
 "metadata": {
  "kernelspec": {
   "display_name": "Python 3",
   "language": "python",
   "name": "python3"
  },
  "language_info": {
   "codemirror_mode": {
    "name": "ipython",
    "version": 3
   },
   "file_extension": ".py",
   "mimetype": "text/x-python",
   "name": "python",
   "nbconvert_exporter": "python",
   "pygments_lexer": "ipython3",
   "version": "3.5.2"
  }
 },
 "nbformat": 4,
 "nbformat_minor": 2
}
