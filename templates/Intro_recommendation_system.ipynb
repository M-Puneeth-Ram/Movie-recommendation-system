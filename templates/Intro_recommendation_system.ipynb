{
 "cells": [
  {
   "cell_type": "markdown",
   "metadata": {},
   "source": [
    "# ** Introduction to Recommendation System **"
   ]
  },
  {
   "cell_type": "markdown",
   "metadata": {},
   "source": [
    "<img src=\"https://raw.githubusercontent.com/jalajthanaki/Movie_recommendation_engine/master/img/2_1.jpg\" \n",
    "align=\"middle\" alt=\"Figure 2.1\" data-canonical-src=\"\" style=\"width:65%;height:65%\">"
   ]
  },
  {
   "cell_type": "markdown",
   "metadata": {},
   "source": [
    "* What is recommedation system?\n",
    "* Why recommendation system is useful for orgnization?\n",
    "* How do we build recommendation engine?\n",
    "    * Content-based approach\n",
    "    * Collobrative filtering based approach\n",
    "    * Hybrid approach\n",
    "* Let's build the movie recommendation system"
   ]
  },
  {
   "cell_type": "markdown",
   "metadata": {},
   "source": [
    "## ** What is recommedation system? **"
   ]
  },
  {
   "cell_type": "markdown",
   "metadata": {},
   "source": [
    "<img src=\"https://raw.githubusercontent.com/jalajthanaki/Movie_recommendation_engine/master/img/2_2.png\" \n",
    "align=\"middle\" alt=\"Figure 2.2\" data-canonical-src=\"\" style=\"width:100%;height:100%\">"
   ]
  },
  {
   "cell_type": "markdown",
   "metadata": {},
   "source": [
    "<img src=\"https://raw.githubusercontent.com/jalajthanaki/Movie_recommendation_engine/master/img/2_3.jpg\" \n",
    "align=\"middle\" alt=\"Figure 2.3\" data-canonical-src=\"\" style=\"width:100%;height:100%\">"
   ]
  },
  {
   "cell_type": "markdown",
   "metadata": {},
   "source": [
    "A recommendation system is any system that automatically suggests content, products or serivces which should interest customers based on their preferences."
   ]
  },
  {
   "cell_type": "markdown",
   "metadata": {},
   "source": [
    "## ** Why recommendation system is useful for orgnization? **"
   ]
  },
  {
   "cell_type": "markdown",
   "metadata": {},
   "source": [
    "* Help to increase the site’s page views, dwell time, click-through rate, and retention\n",
    "* Help generate more advertising revenue\n",
    "* Increase upselling and crossselling\n"
   ]
  },
  {
   "cell_type": "markdown",
   "metadata": {},
   "source": [
    "<img src=\"https://raw.githubusercontent.com/jalajthanaki/Movie_recommendation_engine/master/img/2_4.png\" \n",
    "align=\"middle\" alt=\"Figure 2.4\" data-canonical-src=\"\" style=\"width:80%;height:80%\">"
   ]
  },
  {
   "cell_type": "markdown",
   "metadata": {},
   "source": [
    "<img src=\"https://raw.githubusercontent.com/jalajthanaki/Movie_recommendation_engine/master/img/2_5.png\" \n",
    "align=\"middle\" alt=\"Figure 2.5\" data-canonical-src=\"\" style=\"width:80%;height:80%\">"
   ]
  },
  {
   "cell_type": "markdown",
   "metadata": {},
   "source": [
    "* Way back in 2006, Amazon reported that 35% of it’s revenues were as a direct result of it’s cross sales and upselling efforts. This is the [reference article](https://conversionxl.com/blog/upselling-techniques/)\n",
    "* Movies, music, news, books, research articles, search queries, social tags,products and services\n",
    "* Retail, tech-companies, finance, entertainment industry"
   ]
  },
  {
   "cell_type": "markdown",
   "metadata": {},
   "source": [
    "## How do we build recommendation engine?"
   ]
  },
  {
   "cell_type": "markdown",
   "metadata": {},
   "source": [
    "<img src=\"https://raw.githubusercontent.com/jalajthanaki/Movie_recommendation_engine/master/img/2_6.png\" \n",
    "align=\"middle\" alt=\"Figure 2.6\" data-canonical-src=\"\" style=\"width:60%;height:60%\">"
   ]
  },
  {
   "cell_type": "markdown",
   "metadata": {},
   "source": [
    "### ** Approach - 1 : Content-based  recommendation engine**"
   ]
  },
  {
   "cell_type": "markdown",
   "metadata": {},
   "source": [
    "* Content based system suggests you what you like based on what you liked in past.\n",
    "* Recommendation of items are based on : user's previous purcheses, reviews and likes\n",
    "* Combine: Item description and User profile description\n",
    "* Generate similarity score \n",
    "* Recommend the items based on similarity score"
   ]
  },
  {
   "cell_type": "markdown",
   "metadata": {},
   "source": [
    "<img src=\"https://raw.githubusercontent.com/jalajthanaki/Movie_recommendation_engine/master/img/2_7.png\" \n",
    "align=\"middle\" alt=\"Figure 2.7\" data-canonical-src=\"\" style=\"width:70%;height:70%\">"
   ]
  },
  {
   "cell_type": "markdown",
   "metadata": {},
   "source": [
    "<img src=\"https://raw.githubusercontent.com/jalajthanaki/Movie_recommendation_engine/master/img/2_8.jpg\" \n",
    "align=\"middle\" alt=\"Figure 2.8\" data-canonical-src=\"\" style=\"width:90%;height:90%\">"
   ]
  },
  {
   "cell_type": "markdown",
   "metadata": {},
   "source": [
    "### ** Maths: Behind the scene **"
   ]
  },
  {
   "cell_type": "markdown",
   "metadata": {},
   "source": [
    "**TF-IDF : Term Frequency - Inverse Document Frequency**"
   ]
  },
  {
   "cell_type": "markdown",
   "metadata": {},
   "source": [
    "* Intution behind IF-IDF"
   ]
  },
  {
   "cell_type": "markdown",
   "metadata": {},
   "source": [
    "**Equation of TF-IDF**"
   ]
  },
  {
   "cell_type": "markdown",
   "metadata": {},
   "source": [
    "\\begin{equation}\\large\n",
    "    TF_{(t_{i})} = \\frac{Number\\;of\\;times\\; term\\; t_{t} \\;appears\\; in \\;a \\;document}{Total\\; number\\; of\\; terms\\; in\\; the\\; document }\n",
    "\\end{equation}\n",
    "\n"
   ]
  },
  {
   "cell_type": "markdown",
   "metadata": {},
   "source": [
    "\\begin{equation}\\large\n",
    "    IDF_{(t_{i})} = \\log_{10}\\frac{Total\\;number\\;of\\;documents}{Number\\;of\\; documents\\; with\\; term\\; t_{i}\\;in\\; it} \n",
    "\\end{equation}"
   ]
  },
  {
   "cell_type": "markdown",
   "metadata": {},
   "source": [
    "\n",
    "\\begin{equation}\n",
    "    {TF}\\times{IDF}= (\\frac{Number\\;of\\;times\\; term\\; t_{i} \\;appears\\; in \\;a \\;document}{Total\\; number\\; of\\; terms\\; in\\; the\\; document })\\;\\times\\;\n",
    "    {\\log_{10}(\\frac{Total\\;number\\;of\\;documents}{Number\\;of\\; documents\\; with\\; term\\; t_{i}\\;in\\; it})}\n",
    "    \\end{equation}\n",
    "\n",
    "\n",
    "\n"
   ]
  },
  {
   "cell_type": "markdown",
   "metadata": {},
   "source": [
    "**Example for TF-IDF**"
   ]
  },
  {
   "cell_type": "markdown",
   "metadata": {},
   "source": [
    "```\n",
    "Example 1: \n",
    "        Document 1: This is a sample.\n",
    "        Document 2: This is another example.\n",
    "\n",
    "Example 2: \n",
    "        Document 1: This is a sample a.\n",
    "        Document 2: This is another example. another example. example\n",
    "    \n",
    "\n",
    "Steps: \n",
    "        1. Calculate the frequency of each word for each document.\n",
    "        2. Calculate IDF\n",
    "        3. Multiply TF-IDF\n",
    "        ```"
   ]
  },
  {
   "cell_type": "markdown",
   "metadata": {},
   "source": [
    "##### **1. Calculate TF**\n",
    "\n",
    "    \n",
    "**Step 1.1: Term count for each document**\n",
    "<img src=\"https://raw.githubusercontent.com/jalajthanaki/Movie_recommendation_engine/master/img/2_9.png\" \n",
    "align=\"middle\" alt=\"Figure 2.9\" data-canonical-src=\"\" style=\"width:70%;height:70%\">\n",
    "    \n",
    "    \n",
    "**Step 1.2: Total number of words in each documents**\n",
    "<img src=\"https://raw.githubusercontent.com/jalajthanaki/Movie_recommendation_engine/master/img/2_10.png\" \n",
    "align=\"middle\" alt=\"Figure 2.10\" data-canonical-src=\"\" style=\"width:70%;height:70%\">\n",
    " \n",
    "**Step 1.3: Calculate TF**\n",
    "<img src=\"https://raw.githubusercontent.com/jalajthanaki/Movie_recommendation_engine/master/img/TF_eqa.png\" \n",
    "align=\"middle\" alt=\"Figure TF eqa\" data-canonical-src=\"\" style=\"width:70%;height:70%\">\n",
    "<img src=\"https://raw.githubusercontent.com/jalajthanaki/Movie_recommendation_engine/master/img/2_11.png\" \n",
    "align=\"middle\" alt=\"Figure 2.11\" data-canonical-src=\"\" style=\"width:90%;height:90%\">\n",
    "\n",
    "    \n",
    "    \n",
    "\n"
   ]
  },
  {
   "cell_type": "markdown",
   "metadata": {},
   "source": [
    "##### **2. Calculate IDF**\n",
    "\n",
    "\n",
    "**Step 2.1: IDF calulation**\n",
    "\n",
    "\n",
    "\n",
    "<img src=\"https://raw.githubusercontent.com/jalajthanaki/Movie_recommendation_engine/master/img/IDF_eqa.png\" \n",
    "align=\"middle\" alt=\"Figure IDF eqation\" data-canonical-src=\"\" style=\"width:70%;height:70%\">\n",
    "<img src=\"https://raw.githubusercontent.com/jalajthanaki/Movie_recommendation_engine/master/img/2_12.png\" \n",
    "align=\"middle\" alt=\"Figure 2.12\" data-canonical-src=\"\" style=\"width:100%;height:100%\">\n",
    "   \n",
    "   \n",
    "   "
   ]
  },
  {
   "cell_type": "markdown",
   "metadata": {},
   "source": [
    "##### **3. Calculate TF $\\times$ IDF**\n",
    "\n",
    "<img src=\"https://raw.githubusercontent.com/jalajthanaki/Movie_recommendation_engine/master/img/TF_IDF_eqa.png\" \n",
    "align=\"middle\" alt=\"Figure TFidf eqn\" data-canonical-src=\"\" style=\"width:100%;height:100%\">\n",
    "<img src=\"https://raw.githubusercontent.com/jalajthanaki/Movie_recommendation_engine/master/img/2_13.png\" \n",
    "align=\"middle\" alt=\"Figure 2.13\" data-canonical-src=\"\" style=\"width:100%;height:100%\">\n"
   ]
  },
  {
   "cell_type": "markdown",
   "metadata": {},
   "source": [
    "**Let's demo it**"
   ]
  },
  {
   "cell_type": "code",
   "execution_count": 1,
   "metadata": {},
   "outputs": [],
   "source": [
    "from __future__ import division\n",
    "from textblob import TextBlob\n",
    "import math"
   ]
  },
  {
   "cell_type": "code",
   "execution_count": 2,
   "metadata": {},
   "outputs": [],
   "source": [
    "def tf(word, blob):\n",
    "    return blob.words.count(word) / len(blob.words)\n",
    "\n",
    "\n",
    "def n_containing(word, bloblist):\n",
    "    return 1 + sum(1 for blob in bloblist if word in blob)\n",
    "\n",
    "\n",
    "def idf(word, bloblist):\n",
    "    x = n_containing(word, bloblist)\n",
    "    return math.log(len(bloblist) / (x if x else 1))\n",
    "\n",
    "\n",
    "def tfidf(word, blob, bloblist):\n",
    "    return tf(word, blob) * idf(word, bloblist)"
   ]
  },
  {
   "cell_type": "code",
   "execution_count": 3,
   "metadata": {},
   "outputs": [
    {
     "name": "stdout",
     "output_type": "stream",
     "text": [
      "tf score for word 'short'      >>> 0.1\n",
      "\n",
      "idf score for word 'short'     >>> 0.4054651081081644\n",
      "\n",
      "tf * idf score of word 'short' >>> 0.04054651081081644\n"
     ]
    }
   ],
   "source": [
    "text = 'tf idf, short form of term frequency, inverse document frequency'\n",
    "text2 = 'is a numerical statistic that is intended to reflect how important'\n",
    "text3 = 'a word is to a document in a collection or corpus'\n",
    "\n",
    "blob = TextBlob(text)\n",
    "blob2 = TextBlob(text2)\n",
    "blob3 = TextBlob(text3)\n",
    "bloblist = [blob, blob2, blob3]\n",
    "tf_score = tf('short', blob)\n",
    "idf_score = idf('short', bloblist)\n",
    "tfidf_score = tfidf('short', blob, bloblist)\n",
    "print(\"tf score for word 'short'      >>> \" + str(tf_score) + \"\\n\")\n",
    "print(\"idf score for word 'short'     >>> \" + str(idf_score) + \"\\n\")\n",
    "print(\"tf * idf score of word 'short' >>> \" + str(tfidf_score))"
   ]
  },
  {
   "cell_type": "markdown",
   "metadata": {},
   "source": [
    "**Count Vectorizer**"
   ]
  },
  {
   "cell_type": "markdown",
   "metadata": {},
   "source": [
    "* Intution behind the count vectorizer\n",
    "    * Build vocabulary \n",
    "    * Check which words are present in given text based on the vocabulary"
   ]
  },
  {
   "cell_type": "markdown",
   "metadata": {},
   "source": [
    "**Let's demo it**"
   ]
  },
  {
   "cell_type": "code",
   "execution_count": 4,
   "metadata": {},
   "outputs": [],
   "source": [
    "from sklearn.feature_extraction.text import CountVectorizer\n",
    "from itertools import chain"
   ]
  },
  {
   "cell_type": "code",
   "execution_count": 5,
   "metadata": {},
   "outputs": [],
   "source": [
    "tags = [\n",
    "    \"python, tools\",\n",
    "    \"linux, tools, ubuntu\",\n",
    "    \"distributed systems, linux, networking, tools\",\n",
    "]\n",
    "\n",
    "list_of_new_documents = [[\"python, chicken\"], [\"linux, cow, ubuntu\"],\n",
    "                         [\"machine learning, bird, fish, pig\"]]\n",
    "\n",
    "vect = CountVectorizer()\n",
    "tags = vect.fit_transform(tags)"
   ]
  },
  {
   "cell_type": "code",
   "execution_count": 6,
   "metadata": {},
   "outputs": [
    {
     "name": "stdout",
     "output_type": "stream",
     "text": [
      "{'networking': 2, 'tools': 5, 'linux': 1, 'distributed': 0, 'ubuntu': 6, 'python': 3, 'systems': 4}\n"
     ]
    }
   ],
   "source": [
    "print(vect.vocabulary_)"
   ]
  },
  {
   "cell_type": "code",
   "execution_count": 7,
   "metadata": {},
   "outputs": [
    {
     "data": {
      "text/plain": [
       "array([[0, 0, 0, 1, 0, 1, 0],\n",
       "       [0, 1, 0, 0, 0, 1, 1],\n",
       "       [1, 1, 1, 0, 1, 1, 0]], dtype=int64)"
      ]
     },
     "execution_count": 7,
     "metadata": {},
     "output_type": "execute_result"
    }
   ],
   "source": [
    "tags.toarray()"
   ]
  },
  {
   "cell_type": "code",
   "execution_count": 8,
   "metadata": {},
   "outputs": [],
   "source": [
    "new_docs = list(chain.from_iterable(list_of_new_documents))\n",
    "new_docs = vect.transform(new_docs)"
   ]
  },
  {
   "cell_type": "code",
   "execution_count": 9,
   "metadata": {},
   "outputs": [
    {
     "data": {
      "text/plain": [
       "array([[0, 0, 0, 1, 0, 0, 0],\n",
       "       [0, 1, 0, 0, 0, 0, 1],\n",
       "       [0, 0, 0, 0, 0, 0, 0]])"
      ]
     },
     "execution_count": 9,
     "metadata": {},
     "output_type": "execute_result"
    }
   ],
   "source": [
    "new_docs.toarray()"
   ]
  },
  {
   "cell_type": "markdown",
   "metadata": {},
   "source": [
    "**Cosine Similarity**"
   ]
  },
  {
   "cell_type": "markdown",
   "metadata": {},
   "source": [
    "* Intution behind the cosine similarity"
   ]
  },
  {
   "cell_type": "markdown",
   "metadata": {},
   "source": [
    "<img src=\"https://raw.githubusercontent.com/jalajthanaki/Movie_recommendation_engine/master/img/2_14.png\" \n",
    "align=\"middle\" alt=\"Figure 2.14\" data-canonical-src=\"\" style=\"width:60%;height:60%\">\n",
    "   "
   ]
  },
  {
   "cell_type": "markdown",
   "metadata": {},
   "source": [
    "**Equation for consine similarity**"
   ]
  },
  {
   "cell_type": "markdown",
   "metadata": {},
   "source": [
    "\\begin{equation}\\large\n",
    "   \\vec{a} \\cdot \\vec{b} = \\sum_{i=1}^n a_ib_i = a_1b_1 + a_2b_2 + \\cdots + a_nb_n  \n",
    "\\end{equation}"
   ]
  },
  {
   "cell_type": "markdown",
   "metadata": {},
   "source": [
    "\\begin{equation}\\large\n",
    "   \\cos\\theta = \\frac{\\overrightarrow{a}.\\overrightarrow{b}}{\\lVert{\\overrightarrow{a}}\\rVert {\\lVert{\\overrightarrow{b}}\\rVert}}\n",
    "\\end{equation}\n"
   ]
  },
  {
   "cell_type": "markdown",
   "metadata": {},
   "source": [
    "\\begin{equation}\\large\n",
    "   \\lVert{\\overrightarrow{a}}\\rVert = \\sqrt{a_{1}^2 + a_{2}^2 +a_{3}^2 + ... + a_{n}^2}\n",
    "   \\\\\n",
    "   \\\\\\large\n",
    "   \\lVert{\\overrightarrow{b}}\\rVert = \\sqrt{b_{1}^2 + b_{2}^2 +b_{3}^2 + ... + b_{n}^2}\n",
    "\\end{equation}"
   ]
  },
  {
   "cell_type": "markdown",
   "metadata": {},
   "source": [
    "<img src=\"https://raw.githubusercontent.com/jalajthanaki/Movie_recommendation_engine/master/img/2_15.png\" \n",
    "align=\"middle\" alt=\"Figure 2.15\" data-canonical-src=\"\" style=\"width:60%;height:60%\">"
   ]
  },
  {
   "cell_type": "markdown",
   "metadata": {},
   "source": [
    "* cosine similarity value `[-1,1]` \n",
    "* particularly used in positive space, where the outcome is neatly bounded in `[0,1]`\n",
    "* very efficient to evaluate, especially for sparse vectors."
   ]
  },
  {
   "cell_type": "markdown",
   "metadata": {},
   "source": [
    "| Value of $cos \\theta$ | Value of $\\theta$ | Conclusion|\n",
    "|:---:|:---: |:---:|\n",
    "| +1 |$0^{\\circ}$   | Vectors are more similar |\n",
    "|  0 |$90^{\\circ}$  | Vectors are not similar (orthogonal vectors)|\n",
    "| -1 |$180^{\\circ}$ | Vectors are diametrically dissimilar |\n"
   ]
  },
  {
   "cell_type": "code",
   "execution_count": 10,
   "metadata": {},
   "outputs": [],
   "source": [
    "import math\n",
    "\n",
    "\n",
    "def cosine_similarity(v1, v2):\n",
    "    \"compute cosine similarity of v1 to v2: (v1 dot v2)/{||v1||*||v2||)\"\n",
    "    sumxx, sumxy, sumyy = 0, 0, 0\n",
    "    for i in range(len(v1)):\n",
    "        x = v1[i]\n",
    "        y = v2[i]\n",
    "        sumxx += x * x\n",
    "        sumyy += y * y\n",
    "        sumxy += x * y\n",
    "    return sumxy / math.sqrt(sumxx * sumyy)"
   ]
  },
  {
   "cell_type": "code",
   "execution_count": 11,
   "metadata": {},
   "outputs": [
    {
     "name": "stdout",
     "output_type": "stream",
     "text": [
      "Vector a: [3, 45, 7, 2]\n",
      "Vector b: [2, 54, 13, 15]\n",
      "Cosine Similarity:  0.97228425171235\n"
     ]
    }
   ],
   "source": [
    "a, b = [3, 45, 7, 2], [2, 54, 13, 15]\n",
    "print('Vector a: ' + str(a))\n",
    "print('Vector b: ' + str(b))\n",
    "ans = cosine_similarity(a, b)\n",
    "print('Cosine Similarity:  ' + str(ans))"
   ]
  },
  {
   "cell_type": "code",
   "execution_count": 12,
   "metadata": {},
   "outputs": [
    {
     "data": {
      "text/plain": [
       "array([[-0.5]])"
      ]
     },
     "execution_count": 12,
     "metadata": {},
     "output_type": "execute_result"
    }
   ],
   "source": [
    "from sklearn.metrics.pairwise import cosine_similarity\n",
    "cosine_similarity([[1, 0, -1]], [[-1, -1, 0]])"
   ]
  },
  {
   "cell_type": "markdown",
   "metadata": {},
   "source": [
    "**Weighted Rating (WR)**"
   ]
  },
  {
   "cell_type": "markdown",
   "metadata": {},
   "source": [
    "* Specifically in context of movie recommendation engine"
   ]
  },
  {
   "cell_type": "markdown",
   "metadata": {},
   "source": [
    "\\begin{equation}\\large\n",
    "   Weighted\\;Rating =(\\frac{v}{v+m}.R )+(\\frac{m}{v+m}.C)\n",
    "\\end{equation}"
   ]
  },
  {
   "cell_type": "markdown",
   "metadata": {},
   "source": [
    "```where,\n",
    "v is the number of votes for the movie\n",
    "m is the minimum votes required to be listed in the chart\n",
    "R is the average rating of the movie\n",
    "C is the mean vote across the whole report```"
   ]
  },
  {
   "cell_type": "markdown",
   "metadata": {},
   "source": [
    "### **Build user profile based on item profile**"
   ]
  },
  {
   "cell_type": "markdown",
   "metadata": {},
   "source": [
    "##### **Step 1: Understand the binary features**\n"
   ]
  },
  {
   "cell_type": "markdown",
   "metadata": {},
   "source": [
    "<img src=\"https://raw.githubusercontent.com/jalajthanaki/Movie_recommendation_engine/master/img/2_16.png\" \n",
    "align=\"middle\" alt=\"Figure 2.16\" data-canonical-src=\"\" style=\"width:100%;height:100%\">"
   ]
  },
  {
   "cell_type": "markdown",
   "metadata": {},
   "source": [
    "##### **Step 2: Normalize features attributes**"
   ]
  },
  {
   "cell_type": "markdown",
   "metadata": {},
   "source": [
    "\\begin{equation}\\large\n",
    "   Normalized\\;feature\\; attributes = \\forall_{items}( \\frac{1}{\\sqrt{Value \\; of \\; total \\; attribute}})\n",
    "\\end{equation}"
   ]
  },
  {
   "cell_type": "markdown",
   "metadata": {},
   "source": [
    "<img src=\"https://raw.githubusercontent.com/jalajthanaki/Movie_recommendation_engine/master/img/2_17.png\" \n",
    "align=\"middle\" alt=\"Figure 2.17\" data-canonical-src=\"\" style=\"width:30%;height:30%\">\n"
   ]
  },
  {
   "cell_type": "markdown",
   "metadata": {},
   "source": [
    "##### **Step 3: Values of movie genres $\\times$ Values of normalize features attributes**"
   ]
  },
  {
   "cell_type": "markdown",
   "metadata": {},
   "source": [
    "<img src=\"https://raw.githubusercontent.com/jalajthanaki/Movie_recommendation_engine/master/img/2_18.png\" \n",
    "align=\"middle\" alt=\"Figure 2.18\" data-canonical-src=\"\" style=\"width:100%;height:100%\">"
   ]
  },
  {
   "cell_type": "markdown",
   "metadata": {},
   "source": [
    "##### **Step 4: Build User Profile**"
   ]
  },
  {
   "cell_type": "markdown",
   "metadata": {},
   "source": [
    "<img src=\"https://raw.githubusercontent.com/jalajthanaki/Movie_recommendation_engine/master/img/2_19.png\" \n",
    "align=\"middle\" alt=\"Figure 2.19\" data-canonical-src=\"\" style=\"width:100%;height:100%\">"
   ]
  },
  {
   "cell_type": "markdown",
   "metadata": {},
   "source": [
    "<img src=\"https://raw.githubusercontent.com/jalajthanaki/Movie_recommendation_engine/master/img/2_20.png\" \n",
    "align=\"middle\" alt=\"Figure 2.20\" data-canonical-src=\"\" style=\"width:100%;height:100%\">\n"
   ]
  },
  {
   "cell_type": "markdown",
   "metadata": {},
   "source": [
    "### ** Approach - 2: Collobrative-filtering (CF) based recommendation engine **"
   ]
  },
  {
   "cell_type": "markdown",
   "metadata": {},
   "source": [
    "**Types of CF**\n",
    "\n",
    "1. User-user Collaborative Filtering\n",
    "2. Item-item Collaborative Filtering\n",
    "    \n",
    "\n",
    "* User-Item Collaborative Filtering: “Users who are similar to you also liked …”\n",
    "* Item-Item Collaborative Filtering: “Users who liked this item also liked …”"
   ]
  },
  {
   "cell_type": "markdown",
   "metadata": {},
   "source": [
    "#### ** User-User CF**"
   ]
  },
  {
   "cell_type": "markdown",
   "metadata": {},
   "source": [
    "<img src=\"https://raw.githubusercontent.com/jalajthanaki/Movie_recommendation_engine/master/img/2_21.png\" \n",
    "align=\"middle\" alt=\"Figure 2.21\" data-canonical-src=\"\" style=\"width:70%;height:70%\">"
   ]
  },
  {
   "cell_type": "markdown",
   "metadata": {},
   "source": [
    "#### ** Item-item CF**"
   ]
  },
  {
   "cell_type": "markdown",
   "metadata": {},
   "source": [
    "<img src=\"https://raw.githubusercontent.com/jalajthanaki/Movie_recommendation_engine/master/img/2_22.png\" \n",
    "align=\"middle\" alt=\"Figure 2.22\" data-canonical-src=\"\" style=\"width:70%;height:70%\">"
   ]
  },
  {
   "cell_type": "markdown",
   "metadata": {},
   "source": [
    "**Types based on techniques used for CF**\n",
    "\n"
   ]
  },
  {
   "cell_type": "markdown",
   "metadata": {},
   "source": [
    "<img src=\"https://raw.githubusercontent.com/jalajthanaki/Movie_recommendation_engine/master/img/2_23.png\" \n",
    "align=\"middle\" alt=\"Figure 2.23\" data-canonical-src=\"\" style=\"width:70%;height:70%\">"
   ]
  },
  {
   "cell_type": "markdown",
   "metadata": {},
   "source": [
    "<img src=\"https://raw.githubusercontent.com/jalajthanaki/Movie_recommendation_engine/master/img/2_24.png\" \n",
    "align=\"middle\" alt=\"Figure 2.24\" data-canonical-src=\"\" style=\"width:70%;height:70%\">"
   ]
  },
  {
   "cell_type": "markdown",
   "metadata": {},
   "source": [
    "#### ** CF vs. Content-based **"
   ]
  },
  {
   "cell_type": "markdown",
   "metadata": {},
   "source": [
    "* All the features about items and users are coming from community of users \n",
    "* Features are not coming from metadata of the items/users"
   ]
  },
  {
   "cell_type": "markdown",
   "metadata": {},
   "source": [
    "<img src=\"https://raw.githubusercontent.com/jalajthanaki/Movie_recommendation_engine/master/img/2_25_new.png\" \n",
    "align=\"middle\" alt=\"Figure 2.25\" data-canonical-src=\"\" style=\"width:70%;height:70%\">"
   ]
  },
  {
   "cell_type": "markdown",
   "metadata": {},
   "source": [
    "#### ** Maths: Behind the scene **"
   ]
  },
  {
   "cell_type": "markdown",
   "metadata": {},
   "source": [
    "**Matrix factorization : Singular Value Decomposition (SVD)**"
   ]
  },
  {
   "cell_type": "markdown",
   "metadata": {},
   "source": [
    "\\begin{equation}\\large\n",
    "   R = M\\sum U^{T}\n",
    "\\end{equation}"
   ]
  },
  {
   "cell_type": "markdown",
   "metadata": {},
   "source": [
    "* R  is equal to the product $MΣU^{T}$\n",
    "* The columns of M can build back all of the columns of R \n",
    "* The columns of U can build back all of the rows of R.\n",
    "* The columns of M are orthogonal, as well as the columns of U.\n",
    "* $\\sum$ is a diagonal matrix.\n",
    "\n",
    "\n"
   ]
  },
  {
   "cell_type": "markdown",
   "metadata": {},
   "source": [
    "<img src=\"https://raw.githubusercontent.com/jalajthanaki/Movie_recommendation_engine/master/img/2_26.png\" \n",
    "align=\"middle\" alt=\"Figure 2.26\" data-canonical-src=\"\" style=\"width:70%;height:70%\">"
   ]
  },
  {
   "cell_type": "markdown",
   "metadata": {},
   "source": [
    "\n",
    "\\begin{equation}\\large\n",
    "   r_{ui} = p_{u} . q_{i}\n",
    "\\end{equation}"
   ]
  },
  {
   "cell_type": "markdown",
   "metadata": {},
   "source": [
    "* If R is an $ m \\times n $ matrix then \n",
    "\n",
    "    * M is an $ m \\times r$ orthogonal matrix\n",
    "    * $\\sum$ is an $ r \\times r$ diagonal matrix with non-negative real numbers on the diagonal\n",
    "    * $U^{T}$ is an $ r\\times n$ orthogonal matrix"
   ]
  },
  {
   "cell_type": "markdown",
   "metadata": {},
   "source": [
    "\\begin{equation}\\large\n",
    "   r_{ui} = p_{u} . q_{i} = \\sum_{f\\in\\; latent factors}\\;affinity\\; of\\; u\\; for\\; f\\; \\times\\;affinity\\; of\\; i\\; \\;for\\; f\n",
    "\\end{equation}"
   ]
  },
  {
   "cell_type": "markdown",
   "metadata": {},
   "source": [
    "* $r_{ui}$ represent the rating of the movie\n",
    "* $p_{u}$ represents the affinity of user u for each of the latent factors. \n",
    "* $q_{i}$ represents the affinity of the item i for the latent factors"
   ]
  },
  {
   "cell_type": "markdown",
   "metadata": {},
   "source": [
    "#### ** Loss function **"
   ]
  },
  {
   "cell_type": "markdown",
   "metadata": {},
   "source": [
    "\\begin{equation}\\large\n",
    "   f_{ui}(p_{u},q_{i}) =  \\sum_{r_{ui}\\in R}(r_{ui} - p_{u}.q_{i})^2 \n",
    "\\end{equation}"
   ]
  },
  {
   "cell_type": "markdown",
   "metadata": {},
   "source": [
    "* $p_{u}$ and $q_{i}$ can be found in such a way that the square error difference between their dot product and \n",
    "  the known rating in the user-item matrix is minimum"
   ]
  },
  {
   "cell_type": "markdown",
   "metadata": {},
   "source": [
    "\\begin{equation}\\large\n",
    "   minimum \\sum_{r_{ui}\\in R}(r_{ui} - p_{u}.q_{i})^2 \n",
    "\\end{equation}"
   ]
  },
  {
   "cell_type": "markdown",
   "metadata": {},
   "source": [
    "* Minimize error function with help of gradient descent"
   ]
  },
  {
   "cell_type": "markdown",
   "metadata": {},
   "source": [
    "\\begin{equation}\\large\n",
    "    \\frac{\\partial f_{ui}}{\\partial p_{u}} = \\frac{\\partial}{\\partial p_{u}}(r_{ui} - p_{u}.q_{i})^{2} = -2q_{i}(r_{ui} - p_{u}.q_{i})\n",
    "\\end{equation}\n",
    "\n"
   ]
  },
  {
   "cell_type": "markdown",
   "metadata": {},
   "source": [
    "\\begin{equation}\\large\n",
    "    \\frac{\\partial f_{ui}}{\\partial q_{i}} = \\frac{\\partial}{\\partial q_{i}}(r_{ui} - p_{u}.q_{i})^{2} = -2p_{u}(r_{ui} - p_{u}.q_{i})\n",
    "\\end{equation}"
   ]
  },
  {
   "cell_type": "markdown",
   "metadata": {},
   "source": [
    "##### **Algorithm to predict the ratings**"
   ]
  },
  {
   "cell_type": "markdown",
   "metadata": {},
   "source": [
    "1. Randomly initialize all vectors $p_{u}$ and $q_{i}$\n",
    "2. For given number of times, repeat: (no of iterations)\n",
    "    * For all known rating $r_{ui}$, repeat:\n",
    "        * Compute $\\frac{\\partial f_{ui}}{\\partial p_{u}}$ and $\\frac{\\partial f_{ui}}{\\partial q_{i}}$\n",
    "        * Update $p_{u}$ and $q_{i}$\n",
    "            * $p_{u}\\leftarrow p_{u} + \\alpha . q_{i}(r_{ui} - p_{u}.q_{i})$ \n",
    "            * $q_{i}\\leftarrow q_{i} + \\alpha.p_{u}(r_{ui} - p_{u}.q_{i}) $\n",
    "            \n",
    "            \n",
    "            \n",
    "Note: $\\alpha$ is learning rate. We merged 2 with learning rate"
   ]
  },
  {
   "cell_type": "markdown",
   "metadata": {},
   "source": [
    "* Once all the vectors $p_{u}$ and $q_{i}$ have been computed, we can estimate all the ratings we want using the formula:\n",
    "\n",
    "\\begin{equation}\\large\n",
    "    \\hat r_{ui}=p_{u}⋅q_{i}.\n",
    "\\end{equation}\n"
   ]
  },
  {
   "cell_type": "markdown",
   "metadata": {},
   "source": [
    "### ** Evalute recommendation system **"
   ]
  },
  {
   "cell_type": "markdown",
   "metadata": {},
   "source": [
    "**RMSE : Root-mean-square-error**\n",
    "\n",
    "* RMSE is a quadratic scoring rule that also measures the average magnitude of the error. \n",
    "* It’s the square root of the average of squared differences between prediction and actual observation."
   ]
  },
  {
   "cell_type": "markdown",
   "metadata": {},
   "source": [
    "\\begin{equation}\\large\n",
    "   RMSE = \\sqrt{\\frac{1}{n}\\sum_{j=1}^n(y_{j}-\\hat{y}_{j})^{2}}\n",
    "\\end{equation}"
   ]
  },
  {
   "cell_type": "markdown",
   "metadata": {},
   "source": [
    "**MAE : Mean Absolute Error**\n",
    "\n",
    "* MAE measures the average magnitude of the errors in a set of predictions, without considering their direction. \n",
    "* It is the average over the test sample of the absolute differences between prediction and actual observation \n",
    "  where all individual differences have equal weight.\n"
   ]
  },
  {
   "cell_type": "markdown",
   "metadata": {},
   "source": [
    "\\begin{equation}\\large\n",
    "   MAE = \\frac{1}{n}\\sum_{j=1}^{n}\\mid y_{j} - \\hat{y}_{j}\\mid\n",
    "\\end{equation}"
   ]
  },
  {
   "cell_type": "markdown",
   "metadata": {},
   "source": [
    "### **Approach - 3:  Hybrid approach for recommendation engine **"
   ]
  },
  {
   "cell_type": "markdown",
   "metadata": {},
   "source": [
    "<img src=\"https://raw.githubusercontent.com/jalajthanaki/Movie_recommendation_engine/master/img/2_27.jpg\" \n",
    "align=\"middle\" alt=\"Figure 2.27\" data-canonical-src=\"\" style=\"width:50%;height:50%\">"
   ]
  },
  {
   "cell_type": "markdown",
   "metadata": {},
   "source": [
    "<img src=\"https://raw.githubusercontent.com/jalajthanaki/Movie_recommendation_engine/master/img/2_28.jpg\" \n",
    "align=\"middle\" alt=\"Figure 2.28\" data-canonical-src=\"\" style=\"width:50%;height:50%\">\n"
   ]
  },
  {
   "cell_type": "markdown",
   "metadata": {},
   "source": [
    "## ** Tomorrow : Let's build the movie recomendation system** "
   ]
  }
 ],
 "metadata": {
  "kernelspec": {
   "display_name": "Python 3",
   "language": "python",
   "name": "python3"
  },
  "language_info": {
   "codemirror_mode": {
    "name": "ipython",
    "version": 3
   },
   "file_extension": ".py",
   "mimetype": "text/x-python",
   "name": "python",
   "nbconvert_exporter": "python",
   "pygments_lexer": "ipython3",
   "version": "3.5.2"
  }
 },
 "nbformat": 4,
 "nbformat_minor": 2
}
